{
 "cells": [
  {
   "cell_type": "markdown",
   "id": "84114222",
   "metadata": {},
   "source": [
    "### Practice Questions on Lists\n",
    "(Submit the notebook on Moodle using Github along with the class notebook)"
   ]
  },
  {
   "cell_type": "markdown",
   "id": "0891df79",
   "metadata": {},
   "source": [
    "### numbers = [0, 1, 2, 3, 4, 5, 6, 7, 8, 9]\n",
    "1. Get the first three elements.\n",
    "2. Get elements from index 3 to 6 (inclusive).\n",
    "3. Get the last three elements.\n",
    "4. Get every second element from the list.\n",
    "5. Get a reverse of the list."
   ]
  },
  {
   "cell_type": "code",
   "execution_count": 5,
   "id": "5efba997",
   "metadata": {},
   "outputs": [
    {
     "name": "stdout",
     "output_type": "stream",
     "text": [
      "First 3 elements: [3, 4, 5]\n"
     ]
    }
   ],
   "source": [
    "numbers=[0,1,2,3,4,5,6,7,8,9]\n",
    "print(f\"First 3 elements: {numbers[3:6]}\")"
   ]
  },
  {
   "cell_type": "code",
   "execution_count": 10,
   "id": "2183500f",
   "metadata": {},
   "outputs": [
    {
     "name": "stdout",
     "output_type": "stream",
     "text": [
      "Last 3 elements: [7, 8, 9]\n"
     ]
    }
   ],
   "source": [
    "print(f\"Last 3 elements: {numbers[7:]}\")"
   ]
  },
  {
   "cell_type": "code",
   "execution_count": 11,
   "id": "20d58bbc",
   "metadata": {},
   "outputs": [
    {
     "name": "stdout",
     "output_type": "stream",
     "text": [
      "Every second element: [0, 2, 4, 6, 8]\n"
     ]
    }
   ],
   "source": [
    "print(f\"Every second element: {numbers[::2]}\")"
   ]
  },
  {
   "cell_type": "code",
   "execution_count": 14,
   "id": "04111d79",
   "metadata": {},
   "outputs": [
    {
     "name": "stdout",
     "output_type": "stream",
     "text": [
      "Reversed numbers: [9, 8, 7, 6, 5, 4, 3, 2, 1, 0]\n"
     ]
    }
   ],
   "source": [
    "numbers.reverse()\n",
    "print(f\"Reversed numbers: {numbers}\")"
   ]
  },
  {
   "cell_type": "markdown",
   "id": "dcc22463",
   "metadata": {},
   "source": [
    "### letters = ['a', 'b', 'c', 'd', 'e', 'f', 'g', 'h', 'i', 'j']\n",
    "1. Get every second letter starting from the first letter.\n",
    "2. Get every third letter starting from the second letter.\n",
    "3. Get every fourth letter starting from the third letter."
   ]
  },
  {
   "cell_type": "code",
   "execution_count": 15,
   "id": "34576f2b",
   "metadata": {},
   "outputs": [],
   "source": [
    "letters = ['a', 'b', 'c', 'd', 'e', 'f', 'g', 'h', 'i', 'j']"
   ]
  },
  {
   "cell_type": "code",
   "execution_count": 18,
   "id": "7f3f0694",
   "metadata": {},
   "outputs": [
    {
     "name": "stdout",
     "output_type": "stream",
     "text": [
      "Second letter starting from first: ['a', 'c', 'e', 'g', 'i']\n"
     ]
    }
   ],
   "source": [
    "print(f\"Second letter starting from first: {letters[::2]}\")"
   ]
  },
  {
   "cell_type": "code",
   "execution_count": 19,
   "id": "aaa492b9",
   "metadata": {},
   "outputs": [
    {
     "name": "stdout",
     "output_type": "stream",
     "text": [
      "3rd letter starting from 2nd: ['b', 'e', 'h']\n"
     ]
    }
   ],
   "source": [
    "print(f\"3rd letter starting from 2nd: {letters[1::3]}\")"
   ]
  },
  {
   "cell_type": "code",
   "execution_count": 20,
   "id": "4d052774",
   "metadata": {},
   "outputs": [
    {
     "name": "stdout",
     "output_type": "stream",
     "text": [
      "4th letter starting from 3rd: ['c', 'g']\n"
     ]
    }
   ],
   "source": [
    "print(f\"4th letter starting from 3rd: {letters[2::4]}\")"
   ]
  },
  {
   "cell_type": "markdown",
   "id": "ee041ed9",
   "metadata": {},
   "source": [
    "### colors = ['red', 'green', 'blue', 'yellow', 'purple']\n",
    "1. Get the last two elements.\n",
    "2. Get elements from the third to the last element.\n",
    "3. Get a reverse of the list using negative indexing."
   ]
  },
  {
   "cell_type": "code",
   "execution_count": 22,
   "id": "0e5e09a0",
   "metadata": {},
   "outputs": [],
   "source": [
    "colors = ['red', 'green', 'blue', 'yellow', 'purple']"
   ]
  },
  {
   "cell_type": "code",
   "execution_count": 25,
   "id": "54a6f796",
   "metadata": {},
   "outputs": [
    {
     "name": "stdout",
     "output_type": "stream",
     "text": [
      "Last 2 elements: ['yellow', 'purple']\n"
     ]
    }
   ],
   "source": [
    "print(f\"Last 2 elements: {colors[-2:]}\")"
   ]
  },
  {
   "cell_type": "code",
   "execution_count": 26,
   "id": "76111bae",
   "metadata": {},
   "outputs": [
    {
     "name": "stdout",
     "output_type": "stream",
     "text": [
      "Elements 3rd to last: ['blue', 'yellow', 'purple']\n"
     ]
    }
   ],
   "source": [
    "print(f\"Elements 3rd to last: {colors[2:]}\")"
   ]
  },
  {
   "cell_type": "code",
   "execution_count": 27,
   "id": "6ba54b0e",
   "metadata": {},
   "outputs": [
    {
     "name": "stdout",
     "output_type": "stream",
     "text": [
      "Reversed list: ['purple', 'yellow', 'blue', 'green', 'red']\n"
     ]
    }
   ],
   "source": [
    "print(f\"Reversed list: {colors[::-1]}\")"
   ]
  },
  {
   "cell_type": "code",
   "execution_count": 29,
   "id": "0acaaa97",
   "metadata": {},
   "outputs": [
    {
     "name": "stdout",
     "output_type": "stream",
     "text": [
      "Reversed with step off 2: ['purple', 'blue', 'red']\n"
     ]
    }
   ],
   "source": [
    "print(f\"Reversed with step off 2: {colors[::-2]}\")"
   ]
  },
  {
   "cell_type": "markdown",
   "id": "015a43d4",
   "metadata": {},
   "source": [
    "## Slicing Nested Lists\n",
    "### matrix = [[1, 2, 3], [4, 5, 6], [7, 8, 9]]\n",
    "1. Extract the second row (list [4, 5, 6]).\n",
    "2. Extract the number 2.\n",
    "3. Extract the number 9."
   ]
  },
  {
   "cell_type": "code",
   "execution_count": 30,
   "id": "b45aca96",
   "metadata": {},
   "outputs": [],
   "source": [
    "matrix = [[1, 2, 3], [4, 5, 6], [7, 8, 9]]"
   ]
  },
  {
   "cell_type": "code",
   "execution_count": 35,
   "id": "3cef0e46",
   "metadata": {},
   "outputs": [
    {
     "name": "stdout",
     "output_type": "stream",
     "text": [
      "Second row: [4, 5, 6]\n"
     ]
    }
   ],
   "source": [
    "print(f\"Second row: {matrix[1]}\")"
   ]
  },
  {
   "cell_type": "code",
   "execution_count": 37,
   "id": "f6912ee9",
   "metadata": {},
   "outputs": [
    {
     "name": "stdout",
     "output_type": "stream",
     "text": [
      "Number 2: 2\n"
     ]
    }
   ],
   "source": [
    "print(f\"Number 2: {matrix[0][1]}\")"
   ]
  },
  {
   "cell_type": "code",
   "execution_count": 38,
   "id": "06f5440e",
   "metadata": {},
   "outputs": [
    {
     "name": "stdout",
     "output_type": "stream",
     "text": [
      "Number 9: 9\n"
     ]
    }
   ],
   "source": [
    "print(f\"Number 9: {matrix[2][2]}\")"
   ]
  },
  {
   "cell_type": "markdown",
   "id": "57298501",
   "metadata": {},
   "source": [
    "### Matrix1=['Day', [23,45],'Monday',[[12,13],[14,15]]]\n",
    "*Print Monday\n",
    "*Print 13\n",
    "*print 15\n",
    "*print 45\n",
    "*print day"
   ]
  },
  {
   "cell_type": "code",
   "execution_count": 41,
   "id": "0b902684",
   "metadata": {},
   "outputs": [
    {
     "name": "stdout",
     "output_type": "stream",
     "text": [
      "['Day', [23, 45], 'Monday', [[12, 13], [14, 15]]]\n"
     ]
    }
   ],
   "source": [
    "matrix1=['Day', [23,45],'Monday',[[12,13],[14,15]]]\n",
    "print(matrix1)"
   ]
  },
  {
   "cell_type": "code",
   "execution_count": 42,
   "id": "1ba6770a",
   "metadata": {},
   "outputs": [
    {
     "name": "stdout",
     "output_type": "stream",
     "text": [
      "Monday: Monday\n"
     ]
    }
   ],
   "source": [
    "print(f'Monday: {matrix1[2]}')"
   ]
  },
  {
   "cell_type": "code",
   "execution_count": 45,
   "id": "7d65de4e",
   "metadata": {},
   "outputs": [
    {
     "name": "stdout",
     "output_type": "stream",
     "text": [
      "13: 13\n"
     ]
    }
   ],
   "source": [
    "print(f'13: {matrix1[3][0][1]}')"
   ]
  },
  {
   "cell_type": "code",
   "execution_count": 47,
   "id": "be8819dd",
   "metadata": {},
   "outputs": [
    {
     "name": "stdout",
     "output_type": "stream",
     "text": [
      "15: 15\n"
     ]
    }
   ],
   "source": [
    "print(f'15: {matrix1[3][1][1]}')"
   ]
  },
  {
   "cell_type": "code",
   "execution_count": 48,
   "id": "e26776ad",
   "metadata": {},
   "outputs": [
    {
     "name": "stdout",
     "output_type": "stream",
     "text": [
      "45: 45\n"
     ]
    }
   ],
   "source": [
    "print(f'45: {matrix1[1][1]}')"
   ]
  },
  {
   "cell_type": "code",
   "execution_count": 49,
   "id": "b8c3b757",
   "metadata": {},
   "outputs": [
    {
     "name": "stdout",
     "output_type": "stream",
     "text": [
      "Day: Day\n"
     ]
    }
   ],
   "source": [
    "print(f'Day: {matrix1[0]}')"
   ]
  }
 ],
 "metadata": {
  "kernelspec": {
   "display_name": "Python 3 (ipykernel)",
   "language": "python",
   "name": "python3"
  },
  "language_info": {
   "codemirror_mode": {
    "name": "ipython",
    "version": 3
   },
   "file_extension": ".py",
   "mimetype": "text/x-python",
   "name": "python",
   "nbconvert_exporter": "python",
   "pygments_lexer": "ipython3",
   "version": "3.11.4"
  }
 },
 "nbformat": 4,
 "nbformat_minor": 5
}
