{
 "cells": [
  {
   "cell_type": "markdown",
   "id": "06920d96",
   "metadata": {},
   "source": [
    "* John Cason\n",
    "* Assignment PA1\n",
    "* Version 1\n",
    "* Fall 2023"
   ]
  },
  {
   "cell_type": "markdown",
   "id": "da8127e4",
   "metadata": {},
   "source": [
    "# John Cason\n",
    "### I am John Cason a Senior at Bellarmine University. I run cross country and track at Bellarmine and major in accounting and finance. I enjoy fishing, hunting and hanging out with friends."
   ]
  },
  {
   "cell_type": "markdown",
   "id": "fa5639d6",
   "metadata": {},
   "source": [
    "* class funtions\n",
    "* loops\n",
    "* dictionaries\n",
    "* if statements\n",
    "* Classes"
   ]
  },
  {
   "cell_type": "markdown",
   "id": "d3ff6ba5",
   "metadata": {},
   "source": [
    "1. Programming assignments\n",
    "2. Quizzes\n",
    "3. Attendance/ In-class completed notebook submission\n",
    "4. Midterm exam\n",
    "5. Projects"
   ]
  },
  {
   "cell_type": "markdown",
   "id": "7707d6f9",
   "metadata": {},
   "source": [
    "**Python**"
   ]
  },
  {
   "cell_type": "markdown",
   "id": "c509d26d",
   "metadata": {},
   "source": [
    "*Jupyter*"
   ]
  },
  {
   "cell_type": "markdown",
   "id": "6cbd2a03",
   "metadata": {},
   "source": [
    "`This sentence has highlighted words.`"
   ]
  },
  {
   "cell_type": "markdown",
   "id": "79bfb143",
   "metadata": {},
   "source": [
    "`Github` can befound at <a href=\"https://github.com/jcason5/First_Repos\">this link</a>\n"
   ]
  },
  {
   "attachments": {},
   "cell_type": "markdown",
   "id": "7ade3082",
   "metadata": {},
   "source": [
    "![Bellarmine Logo](https://content.sportslogos.net/logos/30/6811/full/bellarmine_knights_logo_secondary_2010_sportslogosnet-6115.png)\n"
   ]
  },
  {
   "cell_type": "markdown",
   "id": "82ea9e45",
   "metadata": {},
   "source": [
    ">I have laerned how to bold and italic words. I have also learned how to highlight words using backticks as well as creating hyperlinks, headers, bullet point lists, and ordered lists."
   ]
  }
 ],
 "metadata": {
  "kernelspec": {
   "display_name": "Python 3 (ipykernel)",
   "language": "python",
   "name": "python3"
  },
  "language_info": {
   "codemirror_mode": {
    "name": "ipython",
    "version": 3
   },
   "file_extension": ".py",
   "mimetype": "text/x-python",
   "name": "python",
   "nbconvert_exporter": "python",
   "pygments_lexer": "ipython3",
   "version": "3.11.4"
  }
 },
 "nbformat": 4,
 "nbformat_minor": 5
}
