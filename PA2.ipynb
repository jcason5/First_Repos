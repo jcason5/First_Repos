{
 "cells": [
  {
   "cell_type": "markdown",
   "id": "c6d6dd37",
   "metadata": {},
   "source": [
    "### John Cason\n",
    "### PA 2\n",
    "### version 2\n",
    "### Fall 2023 "
   ]
  },
  {
   "cell_type": "markdown",
   "id": "641b9e9a",
   "metadata": {},
   "source": [
    "## Task 1: Personal Information\n",
    "* Create variables to store the following information about yourself: Your name, Your age, Your height in centimeters, Your favorite color. \n",
    "* Print a message that includes all of the above information, e.g., \"My name is [name], I am [age] years old, I am [height] cm tall, and my favorite color is [color].\"\n"
   ]
  },
  {
   "cell_type": "code",
   "execution_count": 3,
   "id": "ea751630",
   "metadata": {},
   "outputs": [
    {
     "name": "stdout",
     "output_type": "stream",
     "text": [
      "My name is John, I am 22 years old, I am 177.8 cm tall, and my favorite color is orange.\n"
     ]
    }
   ],
   "source": [
    "name=\"John\"\n",
    "age=22\n",
    "height=177.8\n",
    "color=\"orange\"\n",
    "print(f\"My name is {name}, I am {age} years old, I am {height} cm tall, and my favorite color is {color}.\")"
   ]
  },
  {
   "cell_type": "markdown",
   "id": "bf6e9492",
   "metadata": {},
   "source": [
    "## Task 2: Temperature Conversion\n",
    "* Create a variable celsius_temp and assign a temperature in Celsius to it.\n",
    "* Convert the Celsius temperature to Fahrenheit\n",
    "* Print a message that includes both the Celsius and Fahrenheit temperatures, e.g., \"The temperature is [Celsius]°C, which is [Fahrenheit]°F.\""
   ]
  },
  {
   "cell_type": "code",
   "execution_count": 7,
   "id": "9e0d1e96",
   "metadata": {},
   "outputs": [
    {
     "name": "stdout",
     "output_type": "stream",
     "text": [
      "The temperature is 24.44°C, which is 76°F.\n"
     ]
    }
   ],
   "source": [
    "celsius=24.44\n",
    "fahrenheit=76\n",
    "print(f\"The temperature is {celsius}°C, which is {fahrenheit}°F.\")"
   ]
  },
  {
   "cell_type": "markdown",
   "id": "d9f7e8fd",
   "metadata": {},
   "source": [
    "## Task 3: Simple Calculator\n",
    "* Create variables num1 and num2 and assign them numeric values.\n",
    "* Perform the following operations and print the results:\n",
    "    *  Addition of num1 and num2\n",
    "    *  Subtraction of num1 from num2\n",
    "    *  Multiplication of num1 and num2\n",
    "    *  Division of num1 by num2"
   ]
  },
  {
   "cell_type": "code",
   "execution_count": 9,
   "id": "1f0c4aaa",
   "metadata": {},
   "outputs": [
    {
     "data": {
      "text/plain": [
       "14"
      ]
     },
     "execution_count": 9,
     "metadata": {},
     "output_type": "execute_result"
    }
   ],
   "source": [
    "num1=5\n",
    "num2=9\n",
    "num1+num2"
   ]
  },
  {
   "cell_type": "code",
   "execution_count": 11,
   "id": "54b3a225",
   "metadata": {},
   "outputs": [
    {
     "data": {
      "text/plain": [
       "4"
      ]
     },
     "execution_count": 11,
     "metadata": {},
     "output_type": "execute_result"
    }
   ],
   "source": [
    "num2-num1"
   ]
  },
  {
   "cell_type": "code",
   "execution_count": 12,
   "id": "e889bf32",
   "metadata": {},
   "outputs": [
    {
     "data": {
      "text/plain": [
       "45"
      ]
     },
     "execution_count": 12,
     "metadata": {},
     "output_type": "execute_result"
    }
   ],
   "source": [
    "num1*num2"
   ]
  },
  {
   "cell_type": "code",
   "execution_count": 13,
   "id": "08f6d4ec",
   "metadata": {},
   "outputs": [
    {
     "data": {
      "text/plain": [
       "0.5555555555555556"
      ]
     },
     "execution_count": 13,
     "metadata": {},
     "output_type": "execute_result"
    }
   ],
   "source": [
    "num1/num2"
   ]
  },
  {
   "cell_type": "markdown",
   "id": "7e4986f7",
   "metadata": {},
   "source": [
    "## Task 4: String Manipulation\n",
    "* Create a variable quote and assign a famous quote to it.\n",
    "* Print the length of the quote.\n",
    "* Print the quote in uppercase and lowercase.\n",
    "* Print the quote with any leading/trailing whitespace removed.\n",
    "* Print the quote split into a list of words."
   ]
  },
  {
   "cell_type": "code",
   "execution_count": 21,
   "id": "a4b9d743",
   "metadata": {},
   "outputs": [
    {
     "name": "stdout",
     "output_type": "stream",
     "text": [
      "There is no I in team, but there is in win and I win.\n"
     ]
    }
   ],
   "source": [
    "quote=\"There is no I in team, but there is in win and I win.\"\n",
    "print(quote)"
   ]
  },
  {
   "cell_type": "code",
   "execution_count": 15,
   "id": "76213d3c",
   "metadata": {},
   "outputs": [
    {
     "name": "stdout",
     "output_type": "stream",
     "text": [
      "The upper case:  THERE IS NO I IN TEAM, BUT THERE IS IN WIN AND I WIN.\n"
     ]
    }
   ],
   "source": [
    "print(\"The upper case: \",quote.upper())"
   ]
  },
  {
   "cell_type": "code",
   "execution_count": 40,
   "id": "4f638dbd",
   "metadata": {},
   "outputs": [
    {
     "name": "stdout",
     "output_type": "stream",
     "text": [
      "The lower case:  there is no i in team, but there is in win and i win.\n"
     ]
    }
   ],
   "source": [
    "print(\"The lower case: \",quote.lower())"
   ]
  },
  {
   "cell_type": "code",
   "execution_count": 45,
   "id": "955fea60",
   "metadata": {
    "scrolled": true
   },
   "outputs": [
    {
     "data": {
      "text/plain": [
       "'There is no I in team, but there is in win and I win.'"
      ]
     },
     "execution_count": 45,
     "metadata": {},
     "output_type": "execute_result"
    }
   ],
   "source": [
    "quote.strip()"
   ]
  },
  {
   "cell_type": "code",
   "execution_count": 46,
   "id": "d8b2368d",
   "metadata": {},
   "outputs": [
    {
     "name": "stdout",
     "output_type": "stream",
     "text": [
      "['There', 'is', 'no', 'I', 'in', 'team,', 'but', 'there', 'is', 'in', 'win', 'and', 'I', 'win.']\n"
     ]
    }
   ],
   "source": [
    "print(quote.split(sep=\" \"))"
   ]
  },
  {
   "cell_type": "markdown",
   "id": "c22e45cc",
   "metadata": {},
   "source": [
    "## Task 5: User Input and Integer Operations\n",
    "* Prompt the user to enter two integer numbers.\n",
    "* Calculate and print the sum, difference, product, and quotient (integer division) of the twonumbers.\n",
    "* Include a Markdown header comment with the name of the assignment, author, version, and semester information. Create markdown for each task and state clearly the question\n",
    "* Using the instructions provided by GitHub, create a local git repository, and push your .ipynb file to it."
   ]
  },
  {
   "cell_type": "code",
   "execution_count": 26,
   "id": "3b421744",
   "metadata": {},
   "outputs": [
    {
     "name": "stdout",
     "output_type": "stream",
     "text": [
      "integer 1: 7\n",
      "integer 2: 8\n",
      "The addition is: 15.0\n",
      "The difference is: -1.0\n",
      "The multiplication is: 56.0\n",
      "The division is: 0.875\n"
     ]
    }
   ],
   "source": [
    "num1= float(input(\"integer 1: \"))\n",
    "num2= float(input(\"integer 2: \"))\n",
    "print(f\"The addition is: {num1+num2}\")\n",
    "print(f\"The difference is: {num1-num2}\")\n",
    "print(f\"The multiplication is: {num1*num2}\")\n",
    "print(f\"The division is: {num1/num2}\")"
   ]
  },
  {
   "cell_type": "code",
   "execution_count": null,
   "id": "0efcdda9",
   "metadata": {},
   "outputs": [],
   "source": []
  }
 ],
 "metadata": {
  "kernelspec": {
   "display_name": "Python 3 (ipykernel)",
   "language": "python",
   "name": "python3"
  },
  "language_info": {
   "codemirror_mode": {
    "name": "ipython",
    "version": 3
   },
   "file_extension": ".py",
   "mimetype": "text/x-python",
   "name": "python",
   "nbconvert_exporter": "python",
   "pygments_lexer": "ipython3",
   "version": "3.11.4"
  }
 },
 "nbformat": 4,
 "nbformat_minor": 5
}
