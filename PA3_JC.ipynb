{
 "cells": [
  {
   "cell_type": "markdown",
   "id": "69de526a",
   "metadata": {},
   "source": [
    "### John Cason\n",
    "### PA3\n",
    "### version 3\n",
    "### Fall 2023"
   ]
  },
  {
   "cell_type": "markdown",
   "id": "88217bc0",
   "metadata": {},
   "source": [
    "### Task 1: List Operations\n",
    "* Create a list called numbers containing the integers 10, 20, 30, 40, 50.\n",
    "* Append the number 60 to the list.\n",
    "* Insert the number 5 at the beginning of the list.\n",
    "* Remove the second element from the list.\n",
    "* Print the modified numbers list."
   ]
  },
  {
   "cell_type": "code",
   "execution_count": 4,
   "id": "71bcbf37",
   "metadata": {},
   "outputs": [
    {
     "name": "stdout",
     "output_type": "stream",
     "text": [
      "[10, 20, 30, 40, 50]\n"
     ]
    }
   ],
   "source": [
    "numbers=[10, 20, 30, 40, 50]\n",
    "print(numbers)"
   ]
  },
  {
   "cell_type": "code",
   "execution_count": 5,
   "id": "25988f3b",
   "metadata": {},
   "outputs": [
    {
     "name": "stdout",
     "output_type": "stream",
     "text": [
      "New numbers list: [5, 10, 30, 40, 50, 60]\n"
     ]
    }
   ],
   "source": [
    "numbers.append(60)\n",
    "numbers.insert(0,5)\n",
    "numbers.remove(20)\n",
    "print(f\"New numbers list:\", numbers)"
   ]
  },
  {
   "cell_type": "markdown",
   "id": "ba5ad533",
   "metadata": {},
   "source": [
    "### Task 2: Tuple Basics\n",
    "* Create a tuple called days containing the days of the week: \"Monday\" to \"Sunday\".\n",
    "* Print the third day of the week.\n",
    "* Attempt to modify the second day to \"Funday\". Note and explain the error that occurs."
   ]
  },
  {
   "cell_type": "code",
   "execution_count": 6,
   "id": "1c1175d8",
   "metadata": {},
   "outputs": [
    {
     "data": {
      "text/plain": [
       "'Wednesday'"
      ]
     },
     "execution_count": 6,
     "metadata": {},
     "output_type": "execute_result"
    }
   ],
   "source": [
    "days=('Monday','Tuesday','Wednesday','Thursday','Friday','Saturday','Sunday')\n",
    "days[2]"
   ]
  },
  {
   "cell_type": "code",
   "execution_count": 42,
   "id": "6dbe54ea",
   "metadata": {},
   "outputs": [],
   "source": [
    "#since this is a tuple and not a list you cannot adjust days like this but have to create a new tuple\n",
    "# days(1)=Funday"
   ]
  },
  {
   "cell_type": "markdown",
   "id": "41c0c738",
   "metadata": {},
   "source": [
    "### Task 3: Reversing Sublist\n",
    "* Create a list named letters containing the letters of the alphabet: \"a\" to \"z\".\n",
    "* Use list slicing to extract the sublist [p, o, n, m, l, k] from the letters list.\n",
    "* Reverse the sublist extracted in step 2 and print it."
   ]
  },
  {
   "cell_type": "code",
   "execution_count": 10,
   "id": "600a0192",
   "metadata": {},
   "outputs": [],
   "source": [
    "letters=['a','b','c','d','e','f','g','h','i','j','k','l','m','n','o','p','q', 'r', 's', 't', 'u', 'v', 'w', 'x', 'y', 'z']"
   ]
  },
  {
   "cell_type": "code",
   "execution_count": 21,
   "id": "b06cb3dd",
   "metadata": {},
   "outputs": [],
   "source": [
    "letters.reverse()"
   ]
  },
  {
   "cell_type": "code",
   "execution_count": 22,
   "id": "e03797e6",
   "metadata": {},
   "outputs": [
    {
     "name": "stdout",
     "output_type": "stream",
     "text": [
      "['z', 'y', 'x', 'w', 'v', 'u', 't', 's', 'r', 'q', 'p', 'o', 'n', 'm', 'l', 'k', 'j', 'i', 'h', 'g', 'f', 'e', 'd', 'c', 'b', 'a']\n"
     ]
    }
   ],
   "source": [
    "print(letters)"
   ]
  },
  {
   "cell_type": "code",
   "execution_count": 23,
   "id": "dae404aa",
   "metadata": {},
   "outputs": [
    {
     "data": {
      "text/plain": [
       "['p', 'o', 'n', 'm', 'l', 'k']"
      ]
     },
     "execution_count": 23,
     "metadata": {},
     "output_type": "execute_result"
    }
   ],
   "source": [
    "letters[10:16]"
   ]
  },
  {
   "cell_type": "markdown",
   "id": "53bd837a",
   "metadata": {},
   "source": [
    "### Task 4: Tuple Packing and Unpacking\n",
    "* Create a tuple called student with your first name, last name, age, and your favorite subject(in that order).\n",
    "* Unpack the student tuple and print each value individually."
   ]
  },
  {
   "cell_type": "code",
   "execution_count": 30,
   "id": "c4f6cb6f",
   "metadata": {},
   "outputs": [],
   "source": [
    "student=('John', 'Cason', 22, 'accounting')"
   ]
  },
  {
   "cell_type": "code",
   "execution_count": 31,
   "id": "af370952",
   "metadata": {},
   "outputs": [
    {
     "data": {
      "text/plain": [
       "'John'"
      ]
     },
     "execution_count": 31,
     "metadata": {},
     "output_type": "execute_result"
    }
   ],
   "source": [
    "student[0]"
   ]
  },
  {
   "cell_type": "code",
   "execution_count": 33,
   "id": "cc5d6daf",
   "metadata": {},
   "outputs": [
    {
     "data": {
      "text/plain": [
       "'Cason'"
      ]
     },
     "execution_count": 33,
     "metadata": {},
     "output_type": "execute_result"
    }
   ],
   "source": [
    "student[1]"
   ]
  },
  {
   "cell_type": "code",
   "execution_count": 34,
   "id": "173b7bd3",
   "metadata": {},
   "outputs": [
    {
     "data": {
      "text/plain": [
       "22"
      ]
     },
     "execution_count": 34,
     "metadata": {},
     "output_type": "execute_result"
    }
   ],
   "source": [
    "student[2]"
   ]
  },
  {
   "cell_type": "code",
   "execution_count": 35,
   "id": "a42f3318",
   "metadata": {},
   "outputs": [
    {
     "data": {
      "text/plain": [
       "'accounting'"
      ]
     },
     "execution_count": 35,
     "metadata": {},
     "output_type": "execute_result"
    }
   ],
   "source": [
    "student[3]"
   ]
  },
  {
   "cell_type": "markdown",
   "id": "004f7f82",
   "metadata": {},
   "source": [
    "### Task 5: Shopping List\n",
    "* Create a list named shopping_list with at least 5 items you would buy from a grocery store.\n",
    "* Print the total number of items on your shopping list.\n",
    "* Replace the third item on the list with a different item.\n",
    "* Sort the list in alphabetical order.\n",
    "* Print the sorted shopping list."
   ]
  },
  {
   "cell_type": "code",
   "execution_count": 37,
   "id": "3394dc72",
   "metadata": {},
   "outputs": [],
   "source": [
    "shopping_list=['cheese','soda','bagel','ground beef','pizza']"
   ]
  },
  {
   "cell_type": "code",
   "execution_count": 38,
   "id": "72379f71",
   "metadata": {},
   "outputs": [
    {
     "data": {
      "text/plain": [
       "5"
      ]
     },
     "execution_count": 38,
     "metadata": {},
     "output_type": "execute_result"
    }
   ],
   "source": [
    "len(shopping_list)"
   ]
  },
  {
   "cell_type": "code",
   "execution_count": 39,
   "id": "6c89e645",
   "metadata": {},
   "outputs": [],
   "source": [
    "shopping_list[2]='bread'"
   ]
  },
  {
   "cell_type": "code",
   "execution_count": 40,
   "id": "51b6691d",
   "metadata": {},
   "outputs": [],
   "source": [
    "shopping_list.sort()"
   ]
  },
  {
   "cell_type": "code",
   "execution_count": 41,
   "id": "ae7fd0da",
   "metadata": {},
   "outputs": [
    {
     "name": "stdout",
     "output_type": "stream",
     "text": [
      "['bread', 'cheese', 'ground beef', 'pizza', 'soda']\n"
     ]
    }
   ],
   "source": [
    "print(shopping_list)"
   ]
  }
 ],
 "metadata": {
  "kernelspec": {
   "display_name": "Python 3 (ipykernel)",
   "language": "python",
   "name": "python3"
  },
  "language_info": {
   "codemirror_mode": {
    "name": "ipython",
    "version": 3
   },
   "file_extension": ".py",
   "mimetype": "text/x-python",
   "name": "python",
   "nbconvert_exporter": "python",
   "pygments_lexer": "ipython3",
   "version": "3.11.4"
  }
 },
 "nbformat": 4,
 "nbformat_minor": 5
}
